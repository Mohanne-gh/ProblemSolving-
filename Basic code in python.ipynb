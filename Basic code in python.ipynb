{
 "cells": [
  {
   "cell_type": "code",
   "execution_count": 50,
   "id": "a6607c3e-42a6-40f1-b150-8f8c5dc472bb",
   "metadata": {},
   "outputs": [
    {
     "name": "stdin",
     "output_type": "stream",
     "text": [
      "input the first number 10\n",
      "input the second number 5\n"
     ]
    },
    {
     "name": "stdout",
     "output_type": "stream",
     "text": [
      "your number after Addition is: 15.0\n",
      "your number after subtraction is: -5.0\n",
      "your number after multiplication is: 50.0\n",
      "your number after Division is: 2.0\n"
     ]
    }
   ],
   "source": [
    "Fnumber = float(input(\"input the first number\"))\n",
    "Snumber = float(input(\"input the second number\"))\n",
    "addition = Fnumber + Snumber\n",
    "print(\"your number after Addition is:\", addition)\n",
    "subtraction =  Snumber - Fnumber\n",
    "print(\"your number after subtraction is:\", subtraction)\n",
    "multiplication = Snumber * Fnumber\n",
    "print(\"your number after multiplication is:\", multiplication)\n",
    "Division = Fnumber/ Snumber\n",
    "print(\"your number after Division is:\", Division)"
   ]
  },
  {
   "cell_type": "code",
   "execution_count": 5,
   "id": "e15b4eca-e402-495b-a4af-273dc793f201",
   "metadata": {},
   "outputs": [
    {
     "name": "stdout",
     "output_type": "stream",
     "text": [
      "The type of variable a is: <class 'int'>\n",
      "The type of variable a is b: <class 'float'>\n",
      "The type of variable a isc: <class 'str'>\n"
     ]
    }
   ],
   "source": [
    "a = 10       \n",
    "b = 5.5     \n",
    "c = \"Mohanned\"    \n",
    "print(\"The type of variable a is:\", type(a))\n",
    "print(\"The type of variable a is b:\", type(b))\n",
    "print(\"The type of variable a isc:\", type(c))\n"
   ]
  },
  {
   "cell_type": "code",
   "execution_count": 28,
   "id": "9e0049db-4374-4feb-918c-7a7906ee4cd3",
   "metadata": {},
   "outputs": [
    {
     "name": "stdout",
     "output_type": "stream",
     "text": [
      "Hello, my name is Ali . I am 25 years old and my height is 1.68 meters.\n"
     ]
    }
   ],
   "source": [
    "name = \"Ali\"\n",
    "age = int(25)\n",
    "height = float(1.68)\n",
    "\n",
    "print(\"Hello, my name is\", name, \". I am\", age, \"years old and my height is\", height, \"meters.\")"
   ]
  },
  {
   "cell_type": "code",
   "execution_count": 15,
   "id": "1bc82545-c8eb-4a51-a216-eb4c110ff3cb",
   "metadata": {},
   "outputs": [
    {
     "name": "stdin",
     "output_type": "stream",
     "text": [
      "please input the length : 10\n",
      "please input the Width : 5\n"
     ]
    },
    {
     "name": "stdout",
     "output_type": "stream",
     "text": [
      "The area of the rectangle is : 50.0\n"
     ]
    }
   ],
   "source": [
    "length = float(input(\"please input the length :\"))\n",
    "Width = float(input (\"please input the Width :\"))\n",
    "area = length * Width \n",
    "print (\"The area of the rectangle is :\", area)"
   ]
  },
  {
   "cell_type": "code",
   "execution_count": 19,
   "id": "9d3b83cd-36ba-4a4e-96f4-a41caee89827",
   "metadata": {},
   "outputs": [
    {
     "name": "stdin",
     "output_type": "stream",
     "text": [
      "enter the principal amount: 1000\n",
      "enter the rate of interest: 5\n",
      "enter the the time in years: 2\n"
     ]
    },
    {
     "name": "stdout",
     "output_type": "stream",
     "text": [
      "The Simple Interest is  100.0\n"
     ]
    }
   ],
   "source": [
    "P = float(input(\"enter the principal amount:\"))\n",
    "R = float(input(\"enter the rate of interest:\"))\n",
    "T = float(input(\"enter the the time in years:\"))\n",
    "SimpleInterest= (P * R * T) / 100\n",
    "print (\"The Simple Interest is \", SimpleInterest)\n"
   ]
  },
  {
   "cell_type": "code",
   "execution_count": null,
   "id": "a968d17a-6543-4f91-ab52-1677d131fd7f",
   "metadata": {},
   "outputs": [],
   "source": []
  }
 ],
 "metadata": {
  "kernelspec": {
   "display_name": "Python 3 (ipykernel)",
   "language": "python",
   "name": "python3"
  },
  "language_info": {
   "codemirror_mode": {
    "name": "ipython",
    "version": 3
   },
   "file_extension": ".py",
   "mimetype": "text/x-python",
   "name": "python",
   "nbconvert_exporter": "python",
   "pygments_lexer": "ipython3",
   "version": "3.12.4"
  }
 },
 "nbformat": 4,
 "nbformat_minor": 5
}
