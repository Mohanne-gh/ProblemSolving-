{
 "cells": [
  {
   "cell_type": "code",
   "execution_count": 11,
   "id": "1c4bb64d-b53c-45be-a6b5-546a88caacea",
   "metadata": {},
   "outputs": [
    {
     "name": "stdout",
     "output_type": "stream",
     "text": [
      "2025-04-29 14:30:00\n"
     ]
    }
   ],
   "source": [
    "import datetime as dt\n",
    "date= dt.datetime(2025,4,29,14,30,0)\n",
    "print (date)"
   ]
  },
  {
   "cell_type": "code",
   "execution_count": 15,
   "id": "53cc54d9-2ca3-4e7f-b8f2-ef5741e40a32",
   "metadata": {},
   "outputs": [
    {
     "name": "stdout",
     "output_type": "stream",
     "text": [
      "2025-04-30 10:54:22.023443\n"
     ]
    }
   ],
   "source": [
    "now = dt.datetime.now()\n",
    "print (now)"
   ]
  },
  {
   "cell_type": "code",
   "execution_count": 57,
   "id": "cdf8cf46-0929-4d5c-a364-deaf53c2f0e4",
   "metadata": {},
   "outputs": [
    {
     "name": "stdout",
     "output_type": "stream",
     "text": [
      "the time is : 2025-04-22 14:25:00\n"
     ]
    }
   ],
   "source": [
    "from datetime import datetime\n",
    "\n",
    "date_str = \"22/04/2025 14:25:00\"\n",
    "dt = datetime.strptime(date_str, \"%d/%m/%Y %H:%M:%S\")\n",
    "print(f\"the time is :\",dt)\n"
   ]
  },
  {
   "cell_type": "code",
   "execution_count": 59,
   "id": "f0937d7d-d668-4c42-bc7b-3eb4e7659fdd",
   "metadata": {},
   "outputs": [
    {
     "name": "stdout",
     "output_type": "stream",
     "text": [
      "22-Apr-2025 14:25:00\n"
     ]
    }
   ],
   "source": [
    "formatted = dt.strftime(\"%d-%b-%Y %H:%M:%S\")\n",
    "print (formatted )"
   ]
  },
  {
   "cell_type": "code",
   "execution_count": 81,
   "id": "e2c7c6b9-69f3-438d-a30a-b38c0f09a3f3",
   "metadata": {},
   "outputs": [
    {
     "name": "stdout",
     "output_type": "stream",
     "text": [
      "2025-05-10 11:29:01.442801\n"
     ]
    }
   ],
   "source": [
    "from datetime import datetime, timedelta\n",
    "\n",
    "dt = datetime.now()\n",
    "FutureDate = dt + timedelta(days=10)\n",
    "print(FutureDate)\n"
   ]
  },
  {
   "cell_type": "code",
   "execution_count": 83,
   "id": "21daddb2-7a6a-472e-be69-2f7305ad0a73",
   "metadata": {},
   "outputs": [
    {
     "name": "stdout",
     "output_type": "stream",
     "text": [
      "2025\n",
      "4\n",
      "30\n",
      "11\n",
      "29\n"
     ]
    }
   ],
   "source": [
    "print (dt.year)\n",
    "print (dt.month)\n",
    "print (dt.day)\n",
    "print (dt.hour)\n",
    "print (dt.minute)"
   ]
  },
  {
   "cell_type": "code",
   "execution_count": null,
   "id": "8292b012-4f48-4f61-a464-e1d17c61b098",
   "metadata": {},
   "outputs": [],
   "source": []
  }
 ],
 "metadata": {
  "kernelspec": {
   "display_name": "Python 3 (ipykernel)",
   "language": "python",
   "name": "python3"
  },
  "language_info": {
   "codemirror_mode": {
    "name": "ipython",
    "version": 3
   },
   "file_extension": ".py",
   "mimetype": "text/x-python",
   "name": "python",
   "nbconvert_exporter": "python",
   "pygments_lexer": "ipython3",
   "version": "3.12.4"
  }
 },
 "nbformat": 4,
 "nbformat_minor": 5
}
