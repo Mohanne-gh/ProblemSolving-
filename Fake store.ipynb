{
 "cells": [
  {
   "cell_type": "code",
   "execution_count": 23,
   "id": "c2fafbd4-f761-45e4-ba64-13522583cc31",
   "metadata": {},
   "outputs": [
    {
     "name": "stdout",
     "output_type": "stream",
     "text": [
      "Username: johnd\n",
      "Email: john@gmail.com\n",
      "Full Name: john doe\n",
      "City: kilcoole\n",
      "----------------------------------------------------------------------------------------------------\n",
      "Username: mor_2314\n",
      "Email: morrison@gmail.com\n",
      "Full Name: david morrison\n",
      "City: kilcoole\n",
      "----------------------------------------------------------------------------------------------------\n",
      "Username: kevinryan\n",
      "Email: kevin@gmail.com\n",
      "Full Name: kevin ryan\n",
      "City: Cullman\n",
      "----------------------------------------------------------------------------------------------------\n",
      "Username: donero\n",
      "Email: don@gmail.com\n",
      "Full Name: don romer\n",
      "City: San Antonio\n",
      "----------------------------------------------------------------------------------------------------\n",
      "Username: derek\n",
      "Email: derek@gmail.com\n",
      "Full Name: derek powell\n",
      "City: san Antonio\n",
      "----------------------------------------------------------------------------------------------------\n",
      "Username: david_r\n",
      "Email: david_r@gmail.com\n",
      "Full Name: david russell\n",
      "City: el paso\n",
      "----------------------------------------------------------------------------------------------------\n",
      "Username: snyder\n",
      "Email: miriam@gmail.com\n",
      "Full Name: miriam snyder\n",
      "City: fresno\n",
      "----------------------------------------------------------------------------------------------------\n",
      "Username: hopkins\n",
      "Email: william@gmail.com\n",
      "Full Name: william hopkins\n",
      "City: mesa\n",
      "----------------------------------------------------------------------------------------------------\n",
      "Username: kate_h\n",
      "Email: kate@gmail.com\n",
      "Full Name: kate hale\n",
      "City: miami\n",
      "----------------------------------------------------------------------------------------------------\n",
      "Username: jimmie_k\n",
      "Email: jimmie@gmail.com\n",
      "Full Name: jimmie klein\n",
      "City: fort wayne\n",
      "----------------------------------------------------------------------------------------------------\n"
     ]
    }
   ],
   "source": [
    "import requests\n",
    "\n",
    "# إرسال طلب لجلب بيانات المستخدمين\n",
    "response = requests.get('https://fakestoreapi.com/users')\n",
    "\n",
    "# التأكد من أن الطلب تم بنجاح\n",
    "if response.status_code == 200:\n",
    "    users = response.json()\n",
    "    \n",
    "    # طباعة المستخدمين بشكل منسق\n",
    "    for user in users:\n",
    "        print(f\"Username: {user['username']}\")\n",
    "        print(f\"Email: {user['email']}\")\n",
    "        print(f\"Full Name: {user['name']['firstname']} {user['name']['lastname']}\")\n",
    "        print(f\"City: {user['address']['city']}\")\n",
    "        print(\"-\" * 40)\n",
    "else:\n",
    "    print(\"Failed to fetch users. Status code:\", response.status_code)\n"
   ]
  },
  {
   "cell_type": "code",
   "execution_count": null,
   "id": "ef6ca7ba-7205-41cb-a23b-cfd8382cffd3",
   "metadata": {},
   "outputs": [],
   "source": []
  }
 ],
 "metadata": {
  "kernelspec": {
   "display_name": "Python 3 (ipykernel)",
   "language": "python",
   "name": "python3"
  },
  "language_info": {
   "codemirror_mode": {
    "name": "ipython",
    "version": 3
   },
   "file_extension": ".py",
   "mimetype": "text/x-python",
   "name": "python",
   "nbconvert_exporter": "python",
   "pygments_lexer": "ipython3",
   "version": "3.12.4"
  }
 },
 "nbformat": 4,
 "nbformat_minor": 5
}
