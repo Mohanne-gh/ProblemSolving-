{
 "cells": [
  {
   "cell_type": "code",
   "execution_count": 5,
   "id": "1c779898-397e-49b4-a0b4-c165671aedf4",
   "metadata": {},
   "outputs": [],
   "source": [
    "#Load the dataset into a pandas DataFrame\n",
    "import pandas as pd\n",
    "data = pd.read_csv (\"C:/Users/lenovo/Downloads/Synthetic_Financial_datasets_log.csv\")\n"
   ]
  },
  {
   "cell_type": "code",
   "execution_count": 6,
   "id": "cb6e211b-6559-4ac1-82f3-c1693c425984",
   "metadata": {},
   "outputs": [
    {
     "name": "stdout",
     "output_type": "stream",
     "text": [
      "         step      type      amount     nameOrig  oldbalanceOrg  \\\n",
      "0           1   PAYMENT     9839.64  C1231006815      170136.00   \n",
      "1           1   PAYMENT     1864.28  C1666544295       21249.00   \n",
      "2           1  TRANSFER      181.00  C1305486145         181.00   \n",
      "3           1  CASH_OUT      181.00   C840083671         181.00   \n",
      "4           1   PAYMENT    11668.14  C2048537720       41554.00   \n",
      "...       ...       ...         ...          ...            ...   \n",
      "6362615   743  CASH_OUT   339682.13   C786484425      339682.13   \n",
      "6362616   743  TRANSFER  6311409.28  C1529008245     6311409.28   \n",
      "6362617   743  CASH_OUT  6311409.28  C1162922333     6311409.28   \n",
      "6362618   743  TRANSFER   850002.52  C1685995037      850002.52   \n",
      "6362619   743  CASH_OUT   850002.52  C1280323807      850002.52   \n",
      "\n",
      "         newbalanceOrig     nameDest  oldbalanceDest  newbalanceDest  isFraud  \\\n",
      "0             160296.36  M1979787155            0.00            0.00        0   \n",
      "1              19384.72  M2044282225            0.00            0.00        0   \n",
      "2                  0.00   C553264065            0.00            0.00        1   \n",
      "3                  0.00    C38997010        21182.00            0.00        1   \n",
      "4              29885.86  M1230701703            0.00            0.00        0   \n",
      "...                 ...          ...             ...             ...      ...   \n",
      "6362615            0.00   C776919290            0.00       339682.13        1   \n",
      "6362616            0.00  C1881841831            0.00            0.00        1   \n",
      "6362617            0.00  C1365125890        68488.84      6379898.11        1   \n",
      "6362618            0.00  C2080388513            0.00            0.00        1   \n",
      "6362619            0.00   C873221189      6510099.11      7360101.63        1   \n",
      "\n",
      "         isFlaggedFraud  \n",
      "0                     0  \n",
      "1                     0  \n",
      "2                     0  \n",
      "3                     0  \n",
      "4                     0  \n",
      "...                 ...  \n",
      "6362615               0  \n",
      "6362616               0  \n",
      "6362617               0  \n",
      "6362618               0  \n",
      "6362619               0  \n",
      "\n",
      "[6362620 rows x 11 columns]\n"
     ]
    }
   ],
   "source": [
    "print (data)"
   ]
  },
  {
   "cell_type": "code",
   "execution_count": 7,
   "id": "bba74fd3-6a3d-41cf-bf51-537341ef60d6",
   "metadata": {},
   "outputs": [
    {
     "data": {
      "text/html": [
       "<div>\n",
       "<style scoped>\n",
       "    .dataframe tbody tr th:only-of-type {\n",
       "        vertical-align: middle;\n",
       "    }\n",
       "\n",
       "    .dataframe tbody tr th {\n",
       "        vertical-align: top;\n",
       "    }\n",
       "\n",
       "    .dataframe thead th {\n",
       "        text-align: right;\n",
       "    }\n",
       "</style>\n",
       "<table border=\"1\" class=\"dataframe\">\n",
       "  <thead>\n",
       "    <tr style=\"text-align: right;\">\n",
       "      <th></th>\n",
       "      <th>step</th>\n",
       "      <th>type</th>\n",
       "      <th>amount</th>\n",
       "      <th>nameOrig</th>\n",
       "      <th>oldbalanceOrg</th>\n",
       "      <th>newbalanceOrig</th>\n",
       "      <th>nameDest</th>\n",
       "      <th>oldbalanceDest</th>\n",
       "      <th>newbalanceDest</th>\n",
       "      <th>isFraud</th>\n",
       "      <th>isFlaggedFraud</th>\n",
       "    </tr>\n",
       "  </thead>\n",
       "  <tbody>\n",
       "    <tr>\n",
       "      <th>0</th>\n",
       "      <td>1</td>\n",
       "      <td>PAYMENT</td>\n",
       "      <td>9839.64</td>\n",
       "      <td>C1231006815</td>\n",
       "      <td>170136.00</td>\n",
       "      <td>160296.36</td>\n",
       "      <td>M1979787155</td>\n",
       "      <td>0.0</td>\n",
       "      <td>0.00</td>\n",
       "      <td>0</td>\n",
       "      <td>0</td>\n",
       "    </tr>\n",
       "    <tr>\n",
       "      <th>1</th>\n",
       "      <td>1</td>\n",
       "      <td>PAYMENT</td>\n",
       "      <td>1864.28</td>\n",
       "      <td>C1666544295</td>\n",
       "      <td>21249.00</td>\n",
       "      <td>19384.72</td>\n",
       "      <td>M2044282225</td>\n",
       "      <td>0.0</td>\n",
       "      <td>0.00</td>\n",
       "      <td>0</td>\n",
       "      <td>0</td>\n",
       "    </tr>\n",
       "    <tr>\n",
       "      <th>2</th>\n",
       "      <td>1</td>\n",
       "      <td>TRANSFER</td>\n",
       "      <td>181.00</td>\n",
       "      <td>C1305486145</td>\n",
       "      <td>181.00</td>\n",
       "      <td>0.00</td>\n",
       "      <td>C553264065</td>\n",
       "      <td>0.0</td>\n",
       "      <td>0.00</td>\n",
       "      <td>1</td>\n",
       "      <td>0</td>\n",
       "    </tr>\n",
       "    <tr>\n",
       "      <th>3</th>\n",
       "      <td>1</td>\n",
       "      <td>CASH_OUT</td>\n",
       "      <td>181.00</td>\n",
       "      <td>C840083671</td>\n",
       "      <td>181.00</td>\n",
       "      <td>0.00</td>\n",
       "      <td>C38997010</td>\n",
       "      <td>21182.0</td>\n",
       "      <td>0.00</td>\n",
       "      <td>1</td>\n",
       "      <td>0</td>\n",
       "    </tr>\n",
       "    <tr>\n",
       "      <th>4</th>\n",
       "      <td>1</td>\n",
       "      <td>PAYMENT</td>\n",
       "      <td>11668.14</td>\n",
       "      <td>C2048537720</td>\n",
       "      <td>41554.00</td>\n",
       "      <td>29885.86</td>\n",
       "      <td>M1230701703</td>\n",
       "      <td>0.0</td>\n",
       "      <td>0.00</td>\n",
       "      <td>0</td>\n",
       "      <td>0</td>\n",
       "    </tr>\n",
       "    <tr>\n",
       "      <th>5</th>\n",
       "      <td>1</td>\n",
       "      <td>PAYMENT</td>\n",
       "      <td>7817.71</td>\n",
       "      <td>C90045638</td>\n",
       "      <td>53860.00</td>\n",
       "      <td>46042.29</td>\n",
       "      <td>M573487274</td>\n",
       "      <td>0.0</td>\n",
       "      <td>0.00</td>\n",
       "      <td>0</td>\n",
       "      <td>0</td>\n",
       "    </tr>\n",
       "    <tr>\n",
       "      <th>6</th>\n",
       "      <td>1</td>\n",
       "      <td>PAYMENT</td>\n",
       "      <td>7107.77</td>\n",
       "      <td>C154988899</td>\n",
       "      <td>183195.00</td>\n",
       "      <td>176087.23</td>\n",
       "      <td>M408069119</td>\n",
       "      <td>0.0</td>\n",
       "      <td>0.00</td>\n",
       "      <td>0</td>\n",
       "      <td>0</td>\n",
       "    </tr>\n",
       "    <tr>\n",
       "      <th>7</th>\n",
       "      <td>1</td>\n",
       "      <td>PAYMENT</td>\n",
       "      <td>7861.64</td>\n",
       "      <td>C1912850431</td>\n",
       "      <td>176087.23</td>\n",
       "      <td>168225.59</td>\n",
       "      <td>M633326333</td>\n",
       "      <td>0.0</td>\n",
       "      <td>0.00</td>\n",
       "      <td>0</td>\n",
       "      <td>0</td>\n",
       "    </tr>\n",
       "    <tr>\n",
       "      <th>8</th>\n",
       "      <td>1</td>\n",
       "      <td>PAYMENT</td>\n",
       "      <td>4024.36</td>\n",
       "      <td>C1265012928</td>\n",
       "      <td>2671.00</td>\n",
       "      <td>0.00</td>\n",
       "      <td>M1176932104</td>\n",
       "      <td>0.0</td>\n",
       "      <td>0.00</td>\n",
       "      <td>0</td>\n",
       "      <td>0</td>\n",
       "    </tr>\n",
       "    <tr>\n",
       "      <th>9</th>\n",
       "      <td>1</td>\n",
       "      <td>DEBIT</td>\n",
       "      <td>5337.77</td>\n",
       "      <td>C712410124</td>\n",
       "      <td>41720.00</td>\n",
       "      <td>36382.23</td>\n",
       "      <td>C195600860</td>\n",
       "      <td>41898.0</td>\n",
       "      <td>40348.79</td>\n",
       "      <td>0</td>\n",
       "      <td>0</td>\n",
       "    </tr>\n",
       "  </tbody>\n",
       "</table>\n",
       "</div>"
      ],
      "text/plain": [
       "   step      type    amount     nameOrig  oldbalanceOrg  newbalanceOrig  \\\n",
       "0     1   PAYMENT   9839.64  C1231006815      170136.00       160296.36   \n",
       "1     1   PAYMENT   1864.28  C1666544295       21249.00        19384.72   \n",
       "2     1  TRANSFER    181.00  C1305486145         181.00            0.00   \n",
       "3     1  CASH_OUT    181.00   C840083671         181.00            0.00   \n",
       "4     1   PAYMENT  11668.14  C2048537720       41554.00        29885.86   \n",
       "5     1   PAYMENT   7817.71    C90045638       53860.00        46042.29   \n",
       "6     1   PAYMENT   7107.77   C154988899      183195.00       176087.23   \n",
       "7     1   PAYMENT   7861.64  C1912850431      176087.23       168225.59   \n",
       "8     1   PAYMENT   4024.36  C1265012928        2671.00            0.00   \n",
       "9     1     DEBIT   5337.77   C712410124       41720.00        36382.23   \n",
       "\n",
       "      nameDest  oldbalanceDest  newbalanceDest  isFraud  isFlaggedFraud  \n",
       "0  M1979787155             0.0            0.00        0               0  \n",
       "1  M2044282225             0.0            0.00        0               0  \n",
       "2   C553264065             0.0            0.00        1               0  \n",
       "3    C38997010         21182.0            0.00        1               0  \n",
       "4  M1230701703             0.0            0.00        0               0  \n",
       "5   M573487274             0.0            0.00        0               0  \n",
       "6   M408069119             0.0            0.00        0               0  \n",
       "7   M633326333             0.0            0.00        0               0  \n",
       "8  M1176932104             0.0            0.00        0               0  \n",
       "9   C195600860         41898.0        40348.79        0               0  "
      ]
     },
     "execution_count": 7,
     "metadata": {},
     "output_type": "execute_result"
    }
   ],
   "source": [
    "\n",
    "data.head(10)"
   ]
  },
  {
   "cell_type": "code",
   "execution_count": 14,
   "id": "096baa51-6796-477a-a211-3c60c731de29",
   "metadata": {},
   "outputs": [
    {
     "name": "stdout",
     "output_type": "stream",
     "text": [
      "Missing values : step              0\n",
      "type              0\n",
      "amount            0\n",
      "nameOrig          0\n",
      "oldbalanceOrg     0\n",
      "newbalanceOrig    0\n",
      "nameDest          0\n",
      "oldbalanceDest    0\n",
      "newbalanceDest    0\n",
      "isFraud           0\n",
      "isFlaggedFraud    0\n",
      "dtype: int64\n"
     ]
    }
   ],
   "source": [
    "# Check for missing values in the dataset\n",
    "missing = data.isnull().sum()\n",
    "print(\"Missing values :\", missing)"
   ]
  },
  {
   "cell_type": "code",
   "execution_count": 16,
   "id": "778184c6-7ab0-44a9-9249-db0c34c6c072",
   "metadata": {},
   "outputs": [
    {
     "name": "stdout",
     "output_type": "stream",
     "text": [
      "       type    amount  oldbalanceOrg  newbalanceOrig  oldbalanceDest  \\\n",
      "0   PAYMENT   9839.64       170136.0       160296.36             0.0   \n",
      "1   PAYMENT   1864.28        21249.0        19384.72             0.0   \n",
      "2  TRANSFER    181.00          181.0            0.00             0.0   \n",
      "3  CASH_OUT    181.00          181.0            0.00         21182.0   \n",
      "4   PAYMENT  11668.14        41554.0        29885.86             0.0   \n",
      "\n",
      "   newbalanceDest  isFraud  isFlaggedFraud  \n",
      "0             0.0        0               0  \n",
      "1             0.0        0               0  \n",
      "2             0.0        1               0  \n",
      "3             0.0        1               0  \n",
      "4             0.0        0               0  \n"
     ]
    }
   ],
   "source": [
    "\n",
    "data_cleaned = data.drop(columns=['nameOrig', 'nameDest', 'step'])\n",
    "\n",
    "print(data_cleaned.head())\n"
   ]
  },
  {
   "cell_type": "code",
   "execution_count": 18,
   "id": "a5bb3821-416c-4ac2-ae2e-a07de129dbb4",
   "metadata": {},
   "outputs": [
    {
     "name": "stdout",
     "output_type": "stream",
     "text": [
      "type\n",
      "CASH_OUT    2237500\n",
      "PAYMENT     2151495\n",
      "CASH_IN     1399284\n",
      "TRANSFER     532909\n",
      "DEBIT         41432\n",
      "Name: count, dtype: int64\n"
     ]
    }
   ],
   "source": [
    "\n",
    "TransactionsType = data_cleaned['type'].value_counts()\n",
    "print(TransactionsType)\n"
   ]
  },
  {
   "cell_type": "code",
   "execution_count": 22,
   "id": "bf931c10-29aa-4b5e-a4cc-60fabfe0f650",
   "metadata": {},
   "outputs": [
    {
     "name": "stdout",
     "output_type": "stream",
     "text": [
      "type\n",
      "CASH_IN     0.000000\n",
      "CASH_OUT    0.183955\n",
      "DEBIT       0.000000\n",
      "PAYMENT     0.000000\n",
      "TRANSFER    0.768799\n",
      "Name: isFraud, dtype: float64\n"
     ]
    }
   ],
   "source": [
    "\n",
    "FraudPercentage = data_cleaned.groupby('type')['isFraud'].mean() * 100\n",
    "print(FraudPercentage)\n"
   ]
  },
  {
   "cell_type": "code",
   "execution_count": 24,
   "id": "31a7042a-fc3a-4573-8d17-426020b7a52c",
   "metadata": {},
   "outputs": [
    {
     "name": "stdout",
     "output_type": "stream",
     "text": [
      "mean      1.467967e+06\n",
      "median    4.414234e+05\n",
      "std       2.404253e+06\n",
      "Name: amount, dtype: float64\n",
      "mean      178197.041727\n",
      "median     74684.720000\n",
      "std       596236.981347\n",
      "Name: amount, dtype: float64\n"
     ]
    }
   ],
   "source": [
    "\n",
    "FraudTransactions = data_cleaned[data_cleaned['isFraud'] == 1]\n",
    "NonFraudTransactions = data_cleaned[data_cleaned['isFraud'] == 0]\n",
    "\n",
    "\n",
    "fraud_amount_stats = FraudTransactions['amount'].agg(['mean', 'median', 'std'])\n",
    "print(fraud_amount_stats)\n",
    "\n",
    "\n",
    "non_fraud_amount_stats = NonFraudTransactions['amount'].agg(['mean', 'median', 'std'])\n",
    "print(non_fraud_amount_stats)\n"
   ]
  },
  {
   "cell_type": "code",
   "execution_count": 30,
   "id": "bdd86b4f-981b-45f8-a746-a881be0bffc9",
   "metadata": {},
   "outputs": [
    {
     "name": "stdout",
     "output_type": "stream",
     "text": [
      "Flagged transactions exceeding 200,000:\n",
      "              type      amount  oldbalanceOrg  newbalanceOrig  oldbalanceDest  \\\n",
      "15       CASH_OUT   229133.94       15325.00             0.0         5083.00   \n",
      "19       TRANSFER   215310.30         705.00             0.0        22425.00   \n",
      "24       TRANSFER   311685.89       10835.00             0.0         6267.00   \n",
      "82       TRANSFER   224606.64           0.00             0.0       354678.92   \n",
      "84       TRANSFER   379856.23           0.00             0.0       900180.00   \n",
      "...           ...         ...            ...             ...             ...   \n",
      "6362615  CASH_OUT   339682.13      339682.13             0.0            0.00   \n",
      "6362616  TRANSFER  6311409.28     6311409.28             0.0            0.00   \n",
      "6362617  CASH_OUT  6311409.28     6311409.28             0.0        68488.84   \n",
      "6362618  TRANSFER   850002.52      850002.52             0.0            0.00   \n",
      "6362619  CASH_OUT   850002.52      850002.52             0.0      6510099.11   \n",
      "\n",
      "         newbalanceDest  isFraud  isFlaggedFraud  \n",
      "15             51513.44        0            True  \n",
      "19                 0.00        0            True  \n",
      "24           2719172.89        0            True  \n",
      "82                 0.00        0            True  \n",
      "84          19169204.93        0            True  \n",
      "...                 ...      ...             ...  \n",
      "6362615       339682.13        1            True  \n",
      "6362616            0.00        1            True  \n",
      "6362617      6379898.11        1            True  \n",
      "6362618            0.00        1            True  \n",
      "6362619      7360101.63        1            True  \n",
      "\n",
      "[1673570 rows x 8 columns]\n"
     ]
    }
   ],
   "source": [
    "data_cleaned['isFlaggedFraud'] = data_cleaned['amount'] > 200000\n",
    "\n",
    "\n",
    "flagged_transactions = data_cleaned[data_cleaned['isFlaggedFraud'] == 1]\n",
    "print(\"Flagged transactions exceeding 200,000:\\n\", flagged_transactions)\n"
   ]
  },
  {
   "cell_type": "code",
   "execution_count": 32,
   "id": "21a483e2-be9c-48a7-99e9-9e98207cb057",
   "metadata": {},
   "outputs": [
    {
     "name": "stdout",
     "output_type": "stream",
     "text": [
      "\n",
      "Transactions by type (total volume and value):\n",
      "           total_volume   total_value\n",
      "type                                \n",
      "TRANSFER        532909  4.852920e+11\n",
      "CASH_OUT       2237500  3.944130e+11\n",
      "CASH_IN        1399284  2.363674e+11\n",
      "PAYMENT        2151495  2.809337e+10\n",
      "DEBIT            41432  2.271992e+08\n"
     ]
    }
   ],
   "source": [
    "\n",
    "transactions_by_type_stats = data_cleaned.groupby('type').agg(\n",
    "    total_volume=('amount', 'count'),\n",
    "    total_value=('amount', 'sum')\n",
    ").sort_values(by='total_value', ascending=False)\n",
    "\n",
    "# Display the results\n",
    "print(\"\\nTransactions by type (total volume and value):\\n\", transactions_by_type_stats)\n"
   ]
  },
  {
   "cell_type": "code",
   "execution_count": null,
   "id": "7e8de3c5-ac63-4864-b9b0-04beac5ae9a5",
   "metadata": {},
   "outputs": [],
   "source": []
  }
 ],
 "metadata": {
  "kernelspec": {
   "display_name": "Python 3 (ipykernel)",
   "language": "python",
   "name": "python3"
  },
  "language_info": {
   "codemirror_mode": {
    "name": "ipython",
    "version": 3
   },
   "file_extension": ".py",
   "mimetype": "text/x-python",
   "name": "python",
   "nbconvert_exporter": "python",
   "pygments_lexer": "ipython3",
   "version": "3.12.4"
  }
 },
 "nbformat": 4,
 "nbformat_minor": 5
}
