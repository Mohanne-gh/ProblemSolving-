{
 "cells": [
  {
   "cell_type": "code",
   "execution_count": 1,
   "id": "4e90d93b-ffab-407a-8272-2d6ed59866ac",
   "metadata": {},
   "outputs": [
    {
     "name": "stdout",
     "output_type": "stream",
     "text": [
      "Collecting selenium\n",
      "  Downloading selenium-4.33.0-py3-none-any.whl.metadata (7.5 kB)\n",
      "Collecting urllib3~=2.4.0 (from urllib3[socks]~=2.4.0->selenium)\n",
      "  Downloading urllib3-2.4.0-py3-none-any.whl.metadata (6.5 kB)\n",
      "Collecting trio~=0.30.0 (from selenium)\n",
      "  Downloading trio-0.30.0-py3-none-any.whl.metadata (8.5 kB)\n",
      "Collecting trio-websocket~=0.12.2 (from selenium)\n",
      "  Downloading trio_websocket-0.12.2-py3-none-any.whl.metadata (5.1 kB)\n",
      "Collecting certifi>=2025.4.26 (from selenium)\n",
      "  Downloading certifi-2025.4.26-py3-none-any.whl.metadata (2.5 kB)\n",
      "Collecting typing_extensions~=4.13.2 (from selenium)\n",
      "  Downloading typing_extensions-4.13.2-py3-none-any.whl.metadata (3.0 kB)\n",
      "Requirement already satisfied: websocket-client~=1.8.0 in c:\\users\\lenovo\\anaconda3\\lib\\site-packages (from selenium) (1.8.0)\n",
      "Collecting attrs>=23.2.0 (from trio~=0.30.0->selenium)\n",
      "  Downloading attrs-25.3.0-py3-none-any.whl.metadata (10 kB)\n",
      "Requirement already satisfied: sortedcontainers in c:\\users\\lenovo\\anaconda3\\lib\\site-packages (from trio~=0.30.0->selenium) (2.4.0)\n",
      "Requirement already satisfied: idna in c:\\users\\lenovo\\anaconda3\\lib\\site-packages (from trio~=0.30.0->selenium) (3.7)\n",
      "Collecting outcome (from trio~=0.30.0->selenium)\n",
      "  Downloading outcome-1.3.0.post0-py2.py3-none-any.whl.metadata (2.6 kB)\n",
      "Requirement already satisfied: sniffio>=1.3.0 in c:\\users\\lenovo\\anaconda3\\lib\\site-packages (from trio~=0.30.0->selenium) (1.3.0)\n",
      "Requirement already satisfied: cffi>=1.14 in c:\\users\\lenovo\\anaconda3\\lib\\site-packages (from trio~=0.30.0->selenium) (1.16.0)\n",
      "Collecting wsproto>=0.14 (from trio-websocket~=0.12.2->selenium)\n",
      "  Downloading wsproto-1.2.0-py3-none-any.whl.metadata (5.6 kB)\n",
      "Requirement already satisfied: pysocks!=1.5.7,<2.0,>=1.5.6 in c:\\users\\lenovo\\anaconda3\\lib\\site-packages (from urllib3[socks]~=2.4.0->selenium) (1.7.1)\n",
      "Requirement already satisfied: pycparser in c:\\users\\lenovo\\anaconda3\\lib\\site-packages (from cffi>=1.14->trio~=0.30.0->selenium) (2.21)\n",
      "Requirement already satisfied: h11<1,>=0.9.0 in c:\\users\\lenovo\\anaconda3\\lib\\site-packages (from wsproto>=0.14->trio-websocket~=0.12.2->selenium) (0.14.0)\n",
      "Downloading selenium-4.33.0-py3-none-any.whl (9.4 MB)\n",
      "   ---------------------------------------- 0.0/9.4 MB ? eta -:--:--\n",
      "   ---------------------------------------- 0.1/9.4 MB 1.7 MB/s eta 0:00:06\n",
      "   - -------------------------------------- 0.3/9.4 MB 3.5 MB/s eta 0:00:03\n",
      "   - -------------------------------------- 0.5/9.4 MB 3.2 MB/s eta 0:00:03\n",
      "   --- ------------------------------------ 0.7/9.4 MB 4.0 MB/s eta 0:00:03\n",
      "   --- ------------------------------------ 0.9/9.4 MB 3.7 MB/s eta 0:00:03\n",
      "   ----- ---------------------------------- 1.2/9.4 MB 4.3 MB/s eta 0:00:02\n",
      "   ----- ---------------------------------- 1.4/9.4 MB 4.2 MB/s eta 0:00:02\n",
      "   ------- -------------------------------- 1.7/9.4 MB 4.4 MB/s eta 0:00:02\n",
      "   -------- ------------------------------- 2.0/9.4 MB 4.8 MB/s eta 0:00:02\n",
      "   --------- ------------------------------ 2.3/9.4 MB 4.8 MB/s eta 0:00:02\n",
      "   ----------- ---------------------------- 2.6/9.4 MB 5.1 MB/s eta 0:00:02\n",
      "   ------------ --------------------------- 3.0/9.4 MB 5.2 MB/s eta 0:00:02\n",
      "   ------------- -------------------------- 3.3/9.4 MB 5.2 MB/s eta 0:00:02\n",
      "   --------------- ------------------------ 3.6/9.4 MB 5.4 MB/s eta 0:00:02\n",
      "   ---------------- ----------------------- 3.9/9.4 MB 5.4 MB/s eta 0:00:02\n",
      "   ------------------ --------------------- 4.3/9.4 MB 5.6 MB/s eta 0:00:01\n",
      "   ------------------- -------------------- 4.6/9.4 MB 5.7 MB/s eta 0:00:01\n",
      "   --------------------- ------------------ 4.9/9.4 MB 5.8 MB/s eta 0:00:01\n",
      "   ---------------------- ----------------- 5.2/9.4 MB 5.8 MB/s eta 0:00:01\n",
      "   ----------------------- ---------------- 5.6/9.4 MB 5.8 MB/s eta 0:00:01\n",
      "   ------------------------- -------------- 6.0/9.4 MB 6.0 MB/s eta 0:00:01\n",
      "   --------------------------- ------------ 6.4/9.4 MB 6.1 MB/s eta 0:00:01\n",
      "   ---------------------------- ----------- 6.7/9.4 MB 6.1 MB/s eta 0:00:01\n",
      "   ----------------------------- ---------- 6.9/9.4 MB 6.1 MB/s eta 0:00:01\n",
      "   ----------------------------- ---------- 6.9/9.4 MB 6.1 MB/s eta 0:00:01\n",
      "   ----------------------------- ---------- 7.0/9.4 MB 5.6 MB/s eta 0:00:01\n",
      "   ------------------------------- -------- 7.5/9.4 MB 5.8 MB/s eta 0:00:01\n",
      "   ---------------------------------- ----- 8.1/9.4 MB 6.0 MB/s eta 0:00:01\n",
      "   ------------------------------------ --- 8.6/9.4 MB 6.2 MB/s eta 0:00:01\n",
      "   -------------------------------------- - 8.9/9.4 MB 6.2 MB/s eta 0:00:01\n",
      "   ---------------------------------------  9.3/9.4 MB 6.3 MB/s eta 0:00:01\n",
      "   ---------------------------------------  9.4/9.4 MB 6.3 MB/s eta 0:00:01\n",
      "   ---------------------------------------  9.4/9.4 MB 6.3 MB/s eta 0:00:01\n",
      "   ---------------------------------------  9.4/9.4 MB 6.3 MB/s eta 0:00:01\n",
      "   ---------------------------------------- 9.4/9.4 MB 5.7 MB/s eta 0:00:00\n",
      "Downloading certifi-2025.4.26-py3-none-any.whl (159 kB)\n",
      "   ---------------------------------------- 0.0/159.6 kB ? eta -:--:--\n",
      "   --------------------------------------- 159.6/159.6 kB 10.0 MB/s eta 0:00:00\n",
      "Downloading trio-0.30.0-py3-none-any.whl (499 kB)\n",
      "   ---------------------------------------- 0.0/499.2 kB ? eta -:--:--\n",
      "   --------------------------------------  491.5/499.2 kB 15.5 MB/s eta 0:00:01\n",
      "   --------------------------------------- 499.2/499.2 kB 10.6 MB/s eta 0:00:00\n",
      "Downloading trio_websocket-0.12.2-py3-none-any.whl (21 kB)\n",
      "Downloading typing_extensions-4.13.2-py3-none-any.whl (45 kB)\n",
      "   ---------------------------------------- 0.0/45.8 kB ? eta -:--:--\n",
      "   ---------------------------------------- 45.8/45.8 kB ? eta 0:00:00\n",
      "Downloading urllib3-2.4.0-py3-none-any.whl (128 kB)\n",
      "   ---------------------------------------- 0.0/128.7 kB ? eta -:--:--\n",
      "   ---------------------------------------- 128.7/128.7 kB 7.4 MB/s eta 0:00:00\n",
      "Downloading attrs-25.3.0-py3-none-any.whl (63 kB)\n",
      "   ---------------------------------------- 0.0/63.8 kB ? eta -:--:--\n",
      "   ---------------------------------------- 63.8/63.8 kB ? eta 0:00:00\n",
      "Downloading outcome-1.3.0.post0-py2.py3-none-any.whl (10 kB)\n",
      "Downloading wsproto-1.2.0-py3-none-any.whl (24 kB)\n",
      "Installing collected packages: wsproto, urllib3, typing_extensions, certifi, attrs, outcome, trio, trio-websocket, selenium\n",
      "  Attempting uninstall: urllib3\n",
      "    Found existing installation: urllib3 2.2.2\n",
      "    Uninstalling urllib3-2.2.2:\n",
      "      Successfully uninstalled urllib3-2.2.2\n",
      "  Attempting uninstall: typing_extensions\n",
      "    Found existing installation: typing_extensions 4.11.0\n",
      "    Uninstalling typing_extensions-4.11.0:\n",
      "      Successfully uninstalled typing_extensions-4.11.0\n",
      "  Attempting uninstall: certifi\n",
      "    Found existing installation: certifi 2024.8.30\n",
      "    Uninstalling certifi-2024.8.30:\n",
      "      Successfully uninstalled certifi-2024.8.30\n",
      "  Attempting uninstall: attrs\n",
      "    Found existing installation: attrs 23.1.0\n",
      "    Uninstalling attrs-23.1.0:\n",
      "      Successfully uninstalled attrs-23.1.0\n",
      "Successfully installed attrs-25.3.0 certifi-2025.4.26 outcome-1.3.0.post0 selenium-4.33.0 trio-0.30.0 trio-websocket-0.12.2 typing_extensions-4.13.2 urllib3-2.4.0 wsproto-1.2.0\n",
      "Note: you may need to restart the kernel to use updated packages.\n"
     ]
    }
   ],
   "source": [
    "pip install selenium"
   ]
  },
  {
   "cell_type": "code",
   "execution_count": 1,
   "id": "07d1d9b5-9bcb-48d6-a55e-ed978bcf6aa3",
   "metadata": {},
   "outputs": [],
   "source": [
    "import selenium "
   ]
  },
  {
   "cell_type": "code",
   "execution_count": 3,
   "id": "f6bec0c5-a42e-45e5-8a5b-dc8aaffdb337",
   "metadata": {},
   "outputs": [
    {
     "name": "stdout",
     "output_type": "stream",
     "text": [
      "Requirement already satisfied: selenium in c:\\users\\lenovo\\anaconda3\\lib\\site-packages (4.33.0)\n",
      "Collecting webdriver_manager\n",
      "  Downloading webdriver_manager-4.0.2-py2.py3-none-any.whl.metadata (12 kB)\n",
      "Requirement already satisfied: urllib3~=2.4.0 in c:\\users\\lenovo\\anaconda3\\lib\\site-packages (from urllib3[socks]~=2.4.0->selenium) (2.4.0)\n",
      "Requirement already satisfied: trio~=0.30.0 in c:\\users\\lenovo\\anaconda3\\lib\\site-packages (from selenium) (0.30.0)\n",
      "Requirement already satisfied: trio-websocket~=0.12.2 in c:\\users\\lenovo\\anaconda3\\lib\\site-packages (from selenium) (0.12.2)\n",
      "Requirement already satisfied: certifi>=2025.4.26 in c:\\users\\lenovo\\anaconda3\\lib\\site-packages (from selenium) (2025.4.26)\n",
      "Requirement already satisfied: typing_extensions~=4.13.2 in c:\\users\\lenovo\\anaconda3\\lib\\site-packages (from selenium) (4.13.2)\n",
      "Requirement already satisfied: websocket-client~=1.8.0 in c:\\users\\lenovo\\anaconda3\\lib\\site-packages (from selenium) (1.8.0)\n",
      "Requirement already satisfied: requests in c:\\users\\lenovo\\anaconda3\\lib\\site-packages (from webdriver_manager) (2.32.2)\n",
      "Requirement already satisfied: python-dotenv in c:\\users\\lenovo\\anaconda3\\lib\\site-packages (from webdriver_manager) (0.21.0)\n",
      "Requirement already satisfied: packaging in c:\\users\\lenovo\\anaconda3\\lib\\site-packages (from webdriver_manager) (23.2)\n",
      "Requirement already satisfied: attrs>=23.2.0 in c:\\users\\lenovo\\anaconda3\\lib\\site-packages (from trio~=0.30.0->selenium) (25.3.0)\n",
      "Requirement already satisfied: sortedcontainers in c:\\users\\lenovo\\anaconda3\\lib\\site-packages (from trio~=0.30.0->selenium) (2.4.0)\n",
      "Requirement already satisfied: idna in c:\\users\\lenovo\\anaconda3\\lib\\site-packages (from trio~=0.30.0->selenium) (3.7)\n",
      "Requirement already satisfied: outcome in c:\\users\\lenovo\\anaconda3\\lib\\site-packages (from trio~=0.30.0->selenium) (1.3.0.post0)\n",
      "Requirement already satisfied: sniffio>=1.3.0 in c:\\users\\lenovo\\anaconda3\\lib\\site-packages (from trio~=0.30.0->selenium) (1.3.0)\n",
      "Requirement already satisfied: cffi>=1.14 in c:\\users\\lenovo\\anaconda3\\lib\\site-packages (from trio~=0.30.0->selenium) (1.16.0)\n",
      "Requirement already satisfied: wsproto>=0.14 in c:\\users\\lenovo\\anaconda3\\lib\\site-packages (from trio-websocket~=0.12.2->selenium) (1.2.0)\n",
      "Requirement already satisfied: pysocks!=1.5.7,<2.0,>=1.5.6 in c:\\users\\lenovo\\anaconda3\\lib\\site-packages (from urllib3[socks]~=2.4.0->selenium) (1.7.1)\n",
      "Requirement already satisfied: charset-normalizer<4,>=2 in c:\\users\\lenovo\\anaconda3\\lib\\site-packages (from requests->webdriver_manager) (2.0.4)\n",
      "Requirement already satisfied: pycparser in c:\\users\\lenovo\\anaconda3\\lib\\site-packages (from cffi>=1.14->trio~=0.30.0->selenium) (2.21)\n",
      "Requirement already satisfied: h11<1,>=0.9.0 in c:\\users\\lenovo\\anaconda3\\lib\\site-packages (from wsproto>=0.14->trio-websocket~=0.12.2->selenium) (0.14.0)\n",
      "Downloading webdriver_manager-4.0.2-py2.py3-none-any.whl (27 kB)\n",
      "Installing collected packages: webdriver_manager\n",
      "Successfully installed webdriver_manager-4.0.2\n",
      "Note: you may need to restart the kernel to use updated packages.\n"
     ]
    }
   ],
   "source": [
    "pip install selenium webdriver_manager"
   ]
  },
  {
   "cell_type": "code",
   "execution_count": 7,
   "id": "8e944bde-2dca-4642-8be0-a3e600720d28",
   "metadata": {},
   "outputs": [],
   "source": [
    "from selenium import webdriver"
   ]
  },
  {
   "cell_type": "code",
   "execution_count": 15,
   "id": "ab5053e6-51b6-4475-a29b-91af4bd4cd15",
   "metadata": {},
   "outputs": [
    {
     "name": "stdout",
     "output_type": "stream",
     "text": [
      "Google\n"
     ]
    }
   ],
   "source": [
    "from selenium import webdriver\n",
    "from selenium.webdriver.chrome.service import Service\n",
    "from webdriver_manager.chrome import ChromeDriverManager\n",
    "import time\n",
    "\n",
    "#example usage\n",
    "service = Service(ChromeDriverManager().install())\n",
    "driver = webdriver.Chrome(service=service)\n",
    "#your scraoing logic here  \n",
    "driver.get('http://www.google.com/')\n",
    "print(driver.title) \n",
    "\n",
    "#wait 5 sec\n",
    "time.sleep(5)\n",
    "#close browser\n",
    "driver.quit()\n",
    "\n"
   ]
  },
  {
   "cell_type": "code",
   "execution_count": null,
   "id": "5f44ac9c-82a1-4dad-8154-f00db10de9b0",
   "metadata": {},
   "outputs": [],
   "source": [
    "login_form = driver.find_element(By.TAG_NAME, 'h3')\n",
    "//*[@id=\"default\"]/div/div/div/div/section/div[2]/ol/li[1]/article/div[2] # price\n",
    "//*[@id=\"default\"]/div/div/div/div/section/div[2]/ol/li[1]/article/p #star\n",
    "//*[@id=\"default\"]/div/div/div/div/section/div[2]/ol/li[1]/article/div[2]/p[2] #stock \n",
    "\n",
    "\n",
    "\n",
    "\n",
    "<a href=\"../../a-light-in-the-attic_1000/index.html\" title=\"A Light in the Attic\">A Light in the ...</a>"
   ]
  },
  {
   "cell_type": "code",
   "execution_count": 1,
   "id": "5ee8057f-0bf2-456f-8e34-a87bd981d63f",
   "metadata": {},
   "outputs": [
    {
     "name": "stdout",
     "output_type": "stream",
     "text": [
      " Total Books: 20\n",
      " Average Price: £38.05\n"
     ]
    }
   ],
   "source": [
    "from selenium import webdriver\n",
    "from selenium.webdriver.common.by import By\n",
    "from selenium.webdriver.chrome.service import Service\n",
    "from selenium.webdriver.chrome.options import Options\n",
    "from webdriver_manager.chrome import ChromeDriverManager\n",
    "import pandas as pd\n",
    "import time\n",
    "\n",
    "\n",
    "options = Options()\n",
    "driver = webdriver.Chrome(service=Service(ChromeDriverManager().install()), options=options)\n",
    "#open page\n",
    "driver.get(\"https://books.toscrape.com/\")\n",
    "time.sleep(2)\n",
    "\n",
    "books = driver.find_elements(By.CLASS_NAME, \"product_pod\")\n",
    "\n",
    "data = []\n",
    "\n",
    "for book in books:\n",
    "    title = book.find_element(By.TAG_NAME, \"h3\").find_element(By.TAG_NAME, \"a\").get_attribute(\"title\")\n",
    "    price = book.find_element(By.CLASS_NAME, \"price_color\").text\n",
    "\n",
    "    availability = book.find_element(By.CLASS_NAME, \"availability\").text.strip()\n",
    "\n",
    "    star_element = book.find_element(By.CLASS_NAME, \"star-rating\")\n",
    "    star_rating = star_element.get_attribute(\"class\").split()[-1]\n",
    "\n",
    "    data.append({\n",
    "        \"Title\": title,\n",
    "        \"Price\": price,\n",
    "        \"Availability\": availability,\n",
    "        \"Star Rating\": star_rating\n",
    "    })\n",
    "\n",
    "driver.quit()\n",
    "df = pd.DataFrame(data)\n",
    "df[\"Price_clean\"] = df[\"Price\"].str.replace(\"£\", \"\").astype(float)\n",
    "df.to_csv(\"books_page1.csv\", index=False)\n",
    "total_books = len(df)\n",
    "average_price = df[\"Price_clean\"].mean()\n",
    "print(f\" Total Books: {total_books}\")\n",
    "print(f\" Average Price: £{average_price:.2f}\")\n"
   ]
  },
  {
   "cell_type": "code",
   "execution_count": 53,
   "id": "f2b3e042-450d-4fed-b3ff-f5698ec69c71",
   "metadata": {},
   "outputs": [
    {
     "name": "stdout",
     "output_type": "stream",
     "text": [
      "                                                Title   Price Availability  \\\n",
      "0                                A Light in the Attic  £51.77     In stock   \n",
      "1                                  Tipping the Velvet  £53.74     In stock   \n",
      "2                                          Soumission  £50.10     In stock   \n",
      "3                                       Sharp Objects  £47.82     In stock   \n",
      "4               Sapiens: A Brief History of Humankind  £54.23     In stock   \n",
      "5                                     The Requiem Red  £22.65     In stock   \n",
      "6   The Dirty Little Secrets of Getting Your Dream...  £33.34     In stock   \n",
      "7   The Coming Woman: A Novel Based on the Life of...  £17.93     In stock   \n",
      "8   The Boys in the Boat: Nine Americans and Their...  £22.60     In stock   \n",
      "9                                     The Black Maria  £52.15     In stock   \n",
      "10     Starving Hearts (Triangular Trade Trilogy, #1)  £13.99     In stock   \n",
      "11                              Shakespeare's Sonnets  £20.66     In stock   \n",
      "12                                        Set Me Free  £17.46     In stock   \n",
      "13  Scott Pilgrim's Precious Little Life (Scott Pi...  £52.29     In stock   \n",
      "14                          Rip it Up and Start Again  £35.02     In stock   \n",
      "15  Our Band Could Be Your Life: Scenes from the A...  £57.25     In stock   \n",
      "16                                               Olio  £23.88     In stock   \n",
      "17  Mesaerion: The Best Science Fiction Stories 18...  £37.59     In stock   \n",
      "18                       Libertarianism for Beginners  £51.33     In stock   \n",
      "19                            It's Only the Himalayas  £45.17     In stock   \n",
      "\n",
      "   Star Rating  Price_clean  \n",
      "0        Three        51.77  \n",
      "1          One        53.74  \n",
      "2          One        50.10  \n",
      "3         Four        47.82  \n",
      "4         Five        54.23  \n",
      "5          One        22.65  \n",
      "6         Four        33.34  \n",
      "7        Three        17.93  \n",
      "8         Four        22.60  \n",
      "9          One        52.15  \n",
      "10         Two        13.99  \n",
      "11        Four        20.66  \n",
      "12        Five        17.46  \n",
      "13        Five        52.29  \n",
      "14        Five        35.02  \n",
      "15       Three        57.25  \n",
      "16         One        23.88  \n",
      "17         One        37.59  \n",
      "18         Two        51.33  \n",
      "19         Two        45.17  \n"
     ]
    }
   ],
   "source": [
    "print (df)"
   ]
  },
  {
   "cell_type": "code",
   "execution_count": null,
   "id": "f73a8124-3b26-46bf-8ba4-9ec88aa4f47e",
   "metadata": {},
   "outputs": [],
   "source": []
  },
  {
   "cell_type": "code",
   "execution_count": null,
   "id": "079ab9c6-1742-4d70-a2a8-11d10f013a46",
   "metadata": {},
   "outputs": [],
   "source": []
  }
 ],
 "metadata": {
  "kernelspec": {
   "display_name": "Python 3 (ipykernel)",
   "language": "python",
   "name": "python3"
  },
  "language_info": {
   "codemirror_mode": {
    "name": "ipython",
    "version": 3
   },
   "file_extension": ".py",
   "mimetype": "text/x-python",
   "name": "python",
   "nbconvert_exporter": "python",
   "pygments_lexer": "ipython3",
   "version": "3.12.4"
  }
 },
 "nbformat": 4,
 "nbformat_minor": 5
}
